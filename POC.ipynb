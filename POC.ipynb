{
 "cells": [
  {
   "cell_type": "code",
   "execution_count": null,
   "id": "7b9643bd",
   "metadata": {},
   "outputs": [],
   "source": [
    "classes = ['1a', '1b', '1c', '1d', '1e', '1f']\n",
    "\n",
    "courses = ['English', 'German', 'Dutch', 'Math', 'Biology', 'Mentoruur']\n",
    "\n",
    "teachers = ['Bob', 'Thea', 'Johan', 'Hanneke', 'Kim', 'Martin']\n",
    "\n",
    "classrooms = ['0.1', '0.2', '1.1', '1.2', '1.3', '2.2', '2.3']\n",
    "\n",
    "hours = [1, 2, 3, 4, 5, 6, 7, 8]\n",
    "\n",
    "\n",
    "\n",
    "# objective\n",
    "\n",
    "\n",
    "\n",
    "# constraints"
   ]
  }
 ],
 "metadata": {
  "kernelspec": {
   "display_name": ".venv",
   "language": "python",
   "name": "python3"
  },
  "language_info": {
   "codemirror_mode": {
    "name": "ipython",
    "version": 3
   },
   "file_extension": ".py",
   "mimetype": "text/x-python",
   "name": "python",
   "nbconvert_exporter": "python",
   "pygments_lexer": "ipython3",
   "version": "3.11.8"
  }
 },
 "nbformat": 4,
 "nbformat_minor": 5
}
